{
  "nbformat": 4,
  "nbformat_minor": 0,
  "metadata": {
    "colab": {
      "provenance": [],
      "authorship_tag": "ABX9TyN5TJEd26x/gmTPcJwFVTLU",
      "include_colab_link": true
    },
    "kernelspec": {
      "name": "python3",
      "display_name": "Python 3"
    },
    "language_info": {
      "name": "python"
    }
  },
  "cells": [
    {
      "cell_type": "markdown",
      "metadata": {
        "id": "view-in-github",
        "colab_type": "text"
      },
      "source": [
        "<a href=\"https://colab.research.google.com/github/VivekDharodia/LGCB-SOLUTIONS/blob/main/LGCB_DFID.ipynb\" target=\"_parent\"><img src=\"https://colab.research.google.com/assets/colab-badge.svg\" alt=\"Open In Colab\"/></a>"
      ]
    },
    {
      "cell_type": "code",
      "execution_count": 10,
      "metadata": {
        "id": "famuntsKfOOK"
      },
      "outputs": [],
      "source": [
        "from copy import deepcopy"
      ]
    },
    {
      "cell_type": "code",
      "source": [
        "#DEFINING THE VARIOUS NODES FOR [1,1,1,1]MEANS ALL THE 4 ARE ON THE LEFT SIDE OF RIVER THAT IS INITAL NODE, AND [0,0,0,0]MEANS ALL THE 4 ARE ON THE RIGHT SIDE OF THE RIVER THAT IS GOAL NODE\n",
        "def verfication(node):\n",
        "  if node==[1,1,0,0] or node==[0,0,1,1] or node==[0,1,1,0] or node==[1,0,0,1] or node==[1,1,1,0] or node==[0,0,0,1] or node==[1,1,1,1]:\n",
        "    return False\n",
        "  return True"
      ],
      "metadata": {
        "id": "2UugjXzufRvP"
      },
      "execution_count": 11,
      "outputs": []
    },
    {
      "cell_type": "code",
      "source": [],
      "metadata": {
        "id": "kUOx2JFzfXgo"
      },
      "execution_count": 11,
      "outputs": []
    },
    {
      "cell_type": "code",
      "source": [
        "#DEFINING AN FUNCTION TO FIND THE NEIGHBOURING STATES\n",
        "def MoveGen(node):\n",
        "  ans=[]\n",
        "  if node[3]==1:\n",
        "    if(node[0]==1):\n",
        "      temp=deepcopy(node)\n",
        "      temp[3]=0\n",
        "      temp[0]=0\n",
        "      if(verfication(temp)):\n",
        "        ans.append(temp)\n",
        "    if(node[1]==1):\n",
        "      temp=deepcopy(node)\n",
        "      temp[3]=0\n",
        "      temp[1]=0\n",
        "      if(verfication(temp)):\n",
        "        ans.append(temp)\n",
        "    if(node[2]==1):\n",
        "      temp=deepcopy(node)\n",
        "      temp[3]=0\n",
        "      temp[2]=0\n",
        "      if(verfication(temp)):\n",
        "        ans.append(temp)\n",
        "    temp=deepcopy(node)\n",
        "    temp[3]=0\n",
        "    if(verfication(temp)):\n",
        "      ans.append(temp)\n",
        "  else:\n",
        "      if(node[0]==0):\n",
        "        temp=deepcopy(node)\n",
        "        temp[3]=1\n",
        "        temp[0]=1\n",
        "        if(verfication(temp)):\n",
        "          ans.append(temp)\n",
        "      if(node[1]==0):\n",
        "        temp=deepcopy(node)\n",
        "        temp[3]=1\n",
        "        temp[1]=1\n",
        "        if(verfication(temp)):\n",
        "          ans.append(temp)\n",
        "      if(node[2]==0):\n",
        "        temp=deepcopy(node)\n",
        "        temp[3]=1\n",
        "        temp[2]=1\n",
        "        if(verfication(temp)):\n",
        "          ans.append(temp)\n",
        "      temp=deepcopy(node)\n",
        "      temp[3]=1\n",
        "      if(verfication(temp)):\n",
        "        ans.append(temp)\n",
        "  return ans"
      ],
      "metadata": {
        "id": "iSE4hkAzc5cY"
      },
      "execution_count": 12,
      "outputs": []
    },
    {
      "cell_type": "code",
      "source": [
        "#MAKING PAIRS OF VARIOUS ELEMENTS THAT IS LION GOAT CABBAGE BOAT\n",
        "def Makepairs(NewNode,NodePair):\n",
        "  parent = []\n",
        "  for i in range(len(NewNode)):\n",
        "    temp=[]\n",
        "    temp.append(NewNode[i])\n",
        "    temp.append(NodePair)\n",
        "    parent.append(temp);\n",
        "  return parent"
      ],
      "metadata": {
        "id": "Ou20Z2nefbG8"
      },
      "execution_count": 13,
      "outputs": []
    },
    {
      "cell_type": "code",
      "source": [],
      "metadata": {
        "id": "NAri3BrLfd5L"
      },
      "execution_count": 13,
      "outputs": []
    },
    {
      "cell_type": "code",
      "source": [
        "def db_dfs(OpenNode , GoalNode,depth):\n",
        "  Open = []\n",
        "  temp=[]\n",
        "  temp.append(OpenNode)\n",
        "  temp.append(OpenNode)\n",
        "  temp.append(depth)\n",
        "  Open.append(temp)\n",
        "  Closed = []\n",
        "  Closed.append(temp)\n",
        "  t=1\n",
        "  while (len(Open) > 0) :\n",
        "    NodePair = Open[0][0]\n",
        "    NodeParent = Open[0][1]\n",
        "    NodeDepth = Open[0][2]\n",
        "    Open.pop(0);\n",
        "    if(GoalNode == NodePair):\n",
        "      return ReconstructPath(NodeParent,Closed)\n",
        "    else:\n",
        "      if NodeDepth<depth :\n",
        "        i,j =func(NodePair)\n",
        "        children = MoveGen(NodePair,i,j)\n",
        "        NewNode = RemoveSeen(Closed,children)\n",
        "        NewPairs = Makepairs(NewNode,NodePair)\n",
        "        for it in NewPairs:\n",
        "          it.append(depth+1)\n",
        "          Closed.append(it)\n",
        "          Open.insert(-1,it)\n",
        "  return []"
      ],
      "metadata": {
        "id": "wPXVMU0tdCW3"
      },
      "execution_count": 14,
      "outputs": []
    },
    {
      "cell_type": "code",
      "source": [
        "#DEPTH FIRST ITERATIVE DEEPENING ALGORITHM\n",
        "def DFID(OpenNode , GoalNode):\n",
        "  depth = 0\n",
        "  while(True):\n",
        "    db_dfs(OpenNode,GoalNode,depth)\n",
        "    depth+=1"
      ],
      "metadata": {
        "id": "GsPxbnNyfhJq"
      },
      "execution_count": 15,
      "outputs": []
    },
    {
      "cell_type": "code",
      "source": [
        "#FUNCTION TO REMOVE THE NODES THAT WE SHOW BUT ARE NOT GOAL STATES AND SO STORED IN CLOSED STACK\n",
        "def RemoveSeen(Closed,children):\n",
        "  ans=[]\n",
        "  for i in range(len(children)):\n",
        "    flag=False\n",
        "    for j in range(len(Closed)):\n",
        "      if(children[i]==Closed[j][0]):\n",
        "        flag=True\n",
        "        break\n",
        "    if(flag==False):\n",
        "      ans.append(children[i])\n",
        "  return ans"
      ],
      "metadata": {
        "id": "0Mce5-6bfrgS"
      },
      "execution_count": 16,
      "outputs": []
    },
    {
      "cell_type": "code",
      "source": [
        "def Reverse(lst):\n",
        "   new_lst = lst[::-1]\n",
        "   return new_lst\n",
        "\n",
        "#FUNCTION TO CREATE A PATH BACK TO INITIAL NODE ONCE ALL THE NODES IN THE FIRST DEPTH CYCLE ARE CHECKED\n",
        "def ReconstructPath(NodePair,Closed):\n",
        "  parent=[]\n",
        "  parent.append(NodePair)\n",
        "  for i in Closed:\n",
        "        if i[0]==NodePair:\n",
        "          if(NodePair!=i[1]):\n",
        "            temp=ReconstructPath(i[1],Closed)\n",
        "            for i in temp:\n",
        "                parent.append(i)\n",
        "          else:\n",
        "            break\n",
        "  return parent"
      ],
      "metadata": {
        "id": "AXuDjHoRfvJO"
      },
      "execution_count": 17,
      "outputs": []
    },
    {
      "cell_type": "code",
      "source": [
        "#INITIAL AND GOAL STATES\n",
        "OpenNode=[1,1,1,1]\n",
        "GoalNode=[0,0,0,0]\n",
        "temp=DFID(OpenNode,GoalNode)\n",
        "temp=Reverse(temp)\n",
        "temp.append(GoalNode)\n",
        "print(len(temp))\n",
        "print(temp)"
      ],
      "metadata": {
        "colab": {
          "base_uri": "https://localhost:8080/",
          "height": 315
        },
        "id": "UVKQatoTfx5V",
        "outputId": "a4d1db3b-2db9-4990-a5a7-7298697789a3"
      },
      "execution_count": 18,
      "outputs": [
        {
          "output_type": "error",
          "ename": "KeyboardInterrupt",
          "evalue": "",
          "traceback": [
            "\u001b[0;31m---------------------------------------------------------------------------\u001b[0m",
            "\u001b[0;31mKeyboardInterrupt\u001b[0m                         Traceback (most recent call last)",
            "\u001b[0;32m<ipython-input-18-623e8abbaca5>\u001b[0m in \u001b[0;36m<cell line: 3>\u001b[0;34m()\u001b[0m\n\u001b[1;32m      1\u001b[0m \u001b[0mOpenNode\u001b[0m\u001b[0;34m=\u001b[0m\u001b[0;34m[\u001b[0m\u001b[0;36m1\u001b[0m\u001b[0;34m,\u001b[0m\u001b[0;36m1\u001b[0m\u001b[0;34m,\u001b[0m\u001b[0;36m1\u001b[0m\u001b[0;34m,\u001b[0m\u001b[0;36m1\u001b[0m\u001b[0;34m]\u001b[0m\u001b[0;34m\u001b[0m\u001b[0;34m\u001b[0m\u001b[0m\n\u001b[1;32m      2\u001b[0m \u001b[0mGoalNode\u001b[0m\u001b[0;34m=\u001b[0m\u001b[0;34m[\u001b[0m\u001b[0;36m0\u001b[0m\u001b[0;34m,\u001b[0m\u001b[0;36m0\u001b[0m\u001b[0;34m,\u001b[0m\u001b[0;36m0\u001b[0m\u001b[0;34m,\u001b[0m\u001b[0;36m0\u001b[0m\u001b[0;34m]\u001b[0m\u001b[0;34m\u001b[0m\u001b[0;34m\u001b[0m\u001b[0m\n\u001b[0;32m----> 3\u001b[0;31m \u001b[0mtemp\u001b[0m\u001b[0;34m=\u001b[0m\u001b[0mDFID\u001b[0m\u001b[0;34m(\u001b[0m\u001b[0mOpenNode\u001b[0m\u001b[0;34m,\u001b[0m\u001b[0mGoalNode\u001b[0m\u001b[0;34m)\u001b[0m\u001b[0;34m\u001b[0m\u001b[0;34m\u001b[0m\u001b[0m\n\u001b[0m\u001b[1;32m      4\u001b[0m \u001b[0mtemp\u001b[0m\u001b[0;34m=\u001b[0m\u001b[0mReverse\u001b[0m\u001b[0;34m(\u001b[0m\u001b[0mtemp\u001b[0m\u001b[0;34m)\u001b[0m\u001b[0;34m\u001b[0m\u001b[0;34m\u001b[0m\u001b[0m\n\u001b[1;32m      5\u001b[0m \u001b[0mtemp\u001b[0m\u001b[0;34m.\u001b[0m\u001b[0mappend\u001b[0m\u001b[0;34m(\u001b[0m\u001b[0mGoalNode\u001b[0m\u001b[0;34m)\u001b[0m\u001b[0;34m\u001b[0m\u001b[0;34m\u001b[0m\u001b[0m\n",
            "\u001b[0;32m<ipython-input-15-f04d29cd9e71>\u001b[0m in \u001b[0;36mDFID\u001b[0;34m(OpenNode, GoalNode)\u001b[0m\n\u001b[1;32m      2\u001b[0m   \u001b[0mdepth\u001b[0m \u001b[0;34m=\u001b[0m \u001b[0;36m0\u001b[0m\u001b[0;34m\u001b[0m\u001b[0;34m\u001b[0m\u001b[0m\n\u001b[1;32m      3\u001b[0m   \u001b[0;32mwhile\u001b[0m\u001b[0;34m(\u001b[0m\u001b[0;32mTrue\u001b[0m\u001b[0;34m)\u001b[0m\u001b[0;34m:\u001b[0m\u001b[0;34m\u001b[0m\u001b[0;34m\u001b[0m\u001b[0m\n\u001b[0;32m----> 4\u001b[0;31m     \u001b[0mdb_dfs\u001b[0m\u001b[0;34m(\u001b[0m\u001b[0mOpenNode\u001b[0m\u001b[0;34m,\u001b[0m\u001b[0mGoalNode\u001b[0m\u001b[0;34m,\u001b[0m\u001b[0mdepth\u001b[0m\u001b[0;34m)\u001b[0m\u001b[0;34m\u001b[0m\u001b[0;34m\u001b[0m\u001b[0m\n\u001b[0m\u001b[1;32m      5\u001b[0m     \u001b[0mdepth\u001b[0m\u001b[0;34m+=\u001b[0m\u001b[0;36m1\u001b[0m\u001b[0;34m\u001b[0m\u001b[0;34m\u001b[0m\u001b[0m\n",
            "\u001b[0;31mKeyboardInterrupt\u001b[0m: "
          ]
        }
      ]
    }
  ]
}