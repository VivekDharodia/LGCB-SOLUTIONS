{
  "nbformat": 4,
  "nbformat_minor": 0,
  "metadata": {
    "colab": {
      "provenance": [],
      "authorship_tag": "ABX9TyMhfobUohDpupwcOg1+H8co",
      "include_colab_link": true
    },
    "kernelspec": {
      "name": "python3",
      "display_name": "Python 3"
    },
    "language_info": {
      "name": "python"
    }
  },
  "cells": [
    {
      "cell_type": "markdown",
      "metadata": {
        "id": "view-in-github",
        "colab_type": "text"
      },
      "source": [
        "<a href=\"https://colab.research.google.com/github/VivekDharodia/LGCB-SOLUTIONS/blob/main/LGCB_DFID_NEW.ipynb\" target=\"_parent\"><img src=\"https://colab.research.google.com/assets/colab-badge.svg\" alt=\"Open In Colab\"/></a>"
      ]
    },
    {
      "cell_type": "code",
      "execution_count": 11,
      "metadata": {
        "id": "famuntsKfOOK"
      },
      "outputs": [],
      "source": [
        "from copy import deepcopy"
      ]
    },
    {
      "cell_type": "code",
      "source": [
        "#DEFINING THE VARIOUS NODES FOR [1,1,1,1]MEANS ALL THE 4 ARE ON THE LEFT SIDE OF RIVER THAT IS INITAL NODE, AND [0,0,0,0]MEANS ALL THE 4 ARE ON THE RIGHT SIDE OF THE RIVER THAT IS GOAL NODE\n",
        "def verfication(node):\n",
        "  if node==[1,1,0,0] or node==[0,0,1,1] or node==[0,1,1,0] or node==[1,0,0,1] or node==[1,1,1,0] or node==[0,0,0,1] or node==[1,1,1,1]:\n",
        "    return False\n",
        "  return True"
      ],
      "metadata": {
        "id": "2UugjXzufRvP"
      },
      "execution_count": 12,
      "outputs": []
    },
    {
      "cell_type": "code",
      "source": [],
      "metadata": {
        "id": "kUOx2JFzfXgo"
      },
      "execution_count": 12,
      "outputs": []
    },
    {
      "cell_type": "code",
      "source": [
        "#DEFINING AN FUNCTION TO FIND THE NEIGHBOURING STATES\n",
        "def MoveGen(node):\n",
        "  ans=[]\n",
        "  if node[3]==1:\n",
        "    if(node[0]==1):\n",
        "      temp=deepcopy(node)\n",
        "      temp[3]=0\n",
        "      temp[0]=0\n",
        "      if(verfication(temp)):\n",
        "        ans.append(temp)\n",
        "    if(node[1]==1):\n",
        "      temp=deepcopy(node)\n",
        "      temp[3]=0\n",
        "      temp[1]=0\n",
        "      if(verfication(temp)):\n",
        "        ans.append(temp)\n",
        "    if(node[2]==1):\n",
        "      temp=deepcopy(node)\n",
        "      temp[3]=0\n",
        "      temp[2]=0\n",
        "      if(verfication(temp)):\n",
        "        ans.append(temp)\n",
        "    temp=deepcopy(node)\n",
        "    temp[3]=0\n",
        "    if(verfication(temp)):\n",
        "      ans.append(temp)\n",
        "  else:\n",
        "      if(node[0]==0):\n",
        "        temp=deepcopy(node)\n",
        "        temp[3]=1\n",
        "        temp[0]=1\n",
        "        if(verfication(temp)):\n",
        "          ans.append(temp)\n",
        "      if(node[1]==0):\n",
        "        temp=deepcopy(node)\n",
        "        temp[3]=1\n",
        "        temp[1]=1\n",
        "        if(verfication(temp)):\n",
        "          ans.append(temp)\n",
        "      if(node[2]==0):\n",
        "        temp=deepcopy(node)\n",
        "        temp[3]=1\n",
        "        temp[2]=1\n",
        "        if(verfication(temp)):\n",
        "          ans.append(temp)\n",
        "      temp=deepcopy(node)\n",
        "      temp[3]=1\n",
        "      if(verfication(temp)):\n",
        "        ans.append(temp)\n",
        "  return ans"
      ],
      "metadata": {
        "id": "iSE4hkAzc5cY"
      },
      "execution_count": 13,
      "outputs": []
    },
    {
      "cell_type": "code",
      "source": [
        "#MAKING PAIRS OF VARIOUS ELEMENTS THAT IS LION GOAT CABBAGE BOAT\n",
        "def Makepairs(NewNode,NodePair):\n",
        "  parent = []\n",
        "  for i in range(len(NewNode)):\n",
        "    temp=[]\n",
        "    temp.append(NewNode[i])\n",
        "    temp.append(NodePair)\n",
        "    parent.append(temp);\n",
        "  return parent"
      ],
      "metadata": {
        "id": "Ou20Z2nefbG8"
      },
      "execution_count": 14,
      "outputs": []
    },
    {
      "cell_type": "code",
      "source": [],
      "metadata": {
        "id": "NAri3BrLfd5L"
      },
      "execution_count": 14,
      "outputs": []
    },
    {
      "cell_type": "code",
      "source": [],
      "metadata": {
        "id": "wPXVMU0tdCW3"
      },
      "execution_count": 14,
      "outputs": []
    },
    {
      "cell_type": "code",
      "source": [
        "#DEPTH FIRST ITERATIVE DEEPENING ALGORITHM\n"
      ],
      "metadata": {
        "id": "GsPxbnNyfhJq"
      },
      "execution_count": 15,
      "outputs": []
    },
    {
      "cell_type": "code",
      "source": [
        "#FUNCTION TO REMOVE THE NODES THAT WE SHOW BUT ARE NOT GOAL STATES AND SO STORED IN CLOSED STACK\n",
        "def RemoveSeen(Closed,children):\n",
        "  ans=[]\n",
        "  for i in range(len(children)):\n",
        "    flag=False\n",
        "    for j in range(len(Closed)):\n",
        "      if(children[i]==Closed[j][0]):\n",
        "        flag=True\n",
        "        break\n",
        "    if(flag==False):\n",
        "      ans.append(children[i])\n",
        "  return ans"
      ],
      "metadata": {
        "id": "0Mce5-6bfrgS"
      },
      "execution_count": 16,
      "outputs": []
    },
    {
      "cell_type": "code",
      "source": [
        "def Reverse(lst):\n",
        "   new_lst = lst[::-1]\n",
        "   return new_lst\n",
        "\n",
        "#FUNCTION TO CREATE A PATH BACK TO INITIAL NODE ONCE ALL THE NODES IN THE FIRST DEPTH CYCLE ARE CHECKED\n",
        "def ReconstructPath(NodePair,Closed):\n",
        "  parent=[]\n",
        "  parent.append(NodePair)\n",
        "  for i in Closed:\n",
        "        if i[0]==NodePair:\n",
        "          if(NodePair!=i[1]):\n",
        "            temp=ReconstructPath(i[1],Closed)\n",
        "            for i in temp:\n",
        "                parent.append(i)\n",
        "          else:\n",
        "            break\n",
        "  return parent"
      ],
      "metadata": {
        "id": "AXuDjHoRfvJO"
      },
      "execution_count": 17,
      "outputs": []
    },
    {
      "cell_type": "code",
      "source": [
        "def db_dfs(OpenNode, GoalNode, depth):\n",
        "    Open = []\n",
        "    Closed = []\n",
        "    temp = [OpenNode, OpenNode, 0]\n",
        "    Open.append(temp)\n",
        "    Closed.append(temp)\n",
        "\n",
        "    while Open:\n",
        "        NodePair = Open[0][0]\n",
        "        NodeParent = Open[0][1]\n",
        "        NodeDepth = Open[0][2]\n",
        "        Open.pop(0)\n",
        "\n",
        "        if GoalNode == NodePair:\n",
        "            return ReconstructPath(NodeParent, Closed)\n",
        "\n",
        "        if NodeDepth < depth:\n",
        "            children = MoveGen(NodePair)\n",
        "            NewNode = RemoveSeen(Closed, children)\n",
        "            NewPairs = Makepairs(NewNode, NodePair)\n",
        "\n",
        "            for it in NewPairs:\n",
        "                it.append(NodeDepth + 1)\n",
        "                Closed.append(it)\n",
        "                Open.insert(0, it)\n",
        "\n",
        "    return None"
      ],
      "metadata": {
        "id": "eguRf-EE2yYi"
      },
      "execution_count": 18,
      "outputs": []
    },
    {
      "cell_type": "code",
      "source": [
        "#DEPTH FIRST ITERATIVE DEEPENING ALGORITHM\n",
        "def DFID(OpenNode , GoalNode):\n",
        "  depth = 0\n",
        "  while True:\n",
        "    result = db_dfs(OpenNode,GoalNode,depth)\n",
        "    if result:\n",
        "      return result\n",
        "    depth+=1"
      ],
      "metadata": {
        "id": "In0HyoJJ2lmV"
      },
      "execution_count": 19,
      "outputs": []
    },
    {
      "cell_type": "code",
      "source": [
        "#INITIAL AND GOAL STATES\n",
        "OpenNode=[1,1,1,1]\n",
        "GoalNode=[0,0,0,0]\n",
        "temp=DFID(OpenNode,GoalNode)\n",
        "temp=Reverse(temp)\n",
        "temp.append(GoalNode)\n",
        "print(len(temp))\n",
        "for i in temp:\n",
        "  print(i)"
      ],
      "metadata": {
        "colab": {
          "base_uri": "https://localhost:8080/"
        },
        "id": "UVKQatoTfx5V",
        "outputId": "11816ec9-5841-4493-9b18-84ac40e9d158"
      },
      "execution_count": 20,
      "outputs": [
        {
          "output_type": "stream",
          "name": "stdout",
          "text": [
            "8\n",
            "[1, 1, 1, 1]\n",
            "[1, 0, 1, 0]\n",
            "[1, 0, 1, 1]\n",
            "[1, 0, 0, 0]\n",
            "[1, 1, 0, 1]\n",
            "[0, 1, 0, 0]\n",
            "[0, 1, 0, 1]\n",
            "[0, 0, 0, 0]\n"
          ]
        }
      ]
    }
  ]
}